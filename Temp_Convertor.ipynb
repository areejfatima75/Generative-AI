{
  "nbformat": 4,
  "nbformat_minor": 0,
  "metadata": {
    "colab": {
      "provenance": [],
      "authorship_tag": "ABX9TyOFoq7pL12em5B/FZIBM1PW",
      "include_colab_link": true
    },
    "kernelspec": {
      "name": "python3",
      "display_name": "Python 3"
    },
    "language_info": {
      "name": "python"
    }
  },
  "cells": [
    {
      "cell_type": "markdown",
      "metadata": {
        "id": "view-in-github",
        "colab_type": "text"
      },
      "source": [
        "<a href=\"https://colab.research.google.com/github/areejfatima75/Generative-AI/blob/main/Temp_Convertor.ipynb\" target=\"_parent\"><img src=\"https://colab.research.google.com/assets/colab-badge.svg\" alt=\"Open In Colab\"/></a>"
      ]
    },
    {
      "cell_type": "code",
      "execution_count": 1,
      "metadata": {
        "colab": {
          "base_uri": "https://localhost:8080/"
        },
        "id": "d_3FEihw6HCg",
        "outputId": "7142f620-62b2-45fb-fafa-24759884f74b"
      },
      "outputs": [
        {
          "output_type": "stream",
          "name": "stdout",
          "text": [
            "Temperature Converter\n",
            "Type 'C' to convert Celsius to Fahrenheit or 'F' to convert Fahrenheit to Celsius: C\n",
            "Enter temperature in Celsius: 25\n",
            "25.0°C is 77.0°F\n"
          ]
        }
      ],
      "source": [
        "def celsius_to_fahrenheit(celsius):\n",
        "    # Convert Celsius to Fahrenheit\n",
        "    fahrenheit = (celsius * 9/5) + 32\n",
        "    return fahrenheit\n",
        "\n",
        "def fahrenheit_to_celsius(fahrenheit):\n",
        "    # Convert Fahrenheit to Celsius\n",
        "    celsius = (fahrenheit - 32) * 5/9\n",
        "    return celsius\n",
        "\n",
        "# User Input\n",
        "print(\"Temperature Converter\")\n",
        "choice = input(\"Type 'C' to convert Celsius to Fahrenheit or 'F' to convert Fahrenheit to Celsius: \").upper()\n",
        "\n",
        "if choice == 'C':\n",
        "    celsius = float(input(\"Enter temperature in Celsius: \"))\n",
        "    print(f\"{celsius}°C is {celsius_to_fahrenheit(celsius)}°F\")\n",
        "elif choice == 'F':\n",
        "    fahrenheit = float(input(\"Enter temperature in Fahrenheit: \"))\n",
        "    print(f\"{fahrenheit}°F is {fahrenheit_to_celsius(fahrenheit)}°C\")\n",
        "else:\n",
        "    print(\"Invalid choice. Please enter 'C' or 'F'.\")\n"
      ]
    }
  ]
}